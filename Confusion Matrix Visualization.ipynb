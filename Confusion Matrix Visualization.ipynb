{
 "cells": [
  {
   "cell_type": "markdown",
   "metadata": {},
   "source": [
    "<font size=\"12\">Confusion Matrix Visualization</font>"
   ]
  },
  {
   "cell_type": "markdown",
   "metadata": {},
   "source": [
    "\n",
    "\n",
    "several variations of cm visualizations  \n",
    "\n",
    "- normalized cm\n",
    "- simplest display: cm arrays\n",
    "- confusion matrices dataframes, side by side\n",
    "- plot cm\n",
    "- plot unnorm and norm heatmaps, side by side\n",
    "- multiple (two and more) cm, in two colum\n",
    "\n",
    "\n"
   ]
  },
  {
   "cell_type": "markdown",
   "metadata": {},
   "source": [
    "# Dependencies"
   ]
  },
  {
   "cell_type": "code",
   "execution_count": 1,
   "metadata": {
    "execution": {
     "iopub.execute_input": "2023-04-02T19:03:50.311262Z",
     "iopub.status.busy": "2023-04-02T19:03:50.310206Z",
     "iopub.status.idle": "2023-04-02T19:03:50.896595Z",
     "shell.execute_reply": "2023-04-02T19:03:50.895856Z",
     "shell.execute_reply.started": "2023-04-02T19:03:50.311219Z"
    },
    "tags": []
   },
   "outputs": [],
   "source": [
    "import numpy as np\n",
    "import os\n",
    "\n",
    "# Classification metrics\n",
    "from sklearn.metrics import confusion_matrix \n"
   ]
  },
  {
   "cell_type": "code",
   "execution_count": 2,
   "metadata": {
    "execution": {
     "iopub.execute_input": "2023-04-02T19:03:50.897971Z",
     "iopub.status.busy": "2023-04-02T19:03:50.897661Z",
     "iopub.status.idle": "2023-04-02T19:03:51.505139Z",
     "shell.execute_reply": "2023-04-02T19:03:51.504309Z",
     "shell.execute_reply.started": "2023-04-02T19:03:50.897953Z"
    },
    "tags": []
   },
   "outputs": [],
   "source": [
    "# Import the script from different folder\n",
    "import sys  \n",
    "sys.path.append('./scripts')\n",
    "\n",
    "import metrics_utilities as mu"
   ]
  },
  {
   "cell_type": "markdown",
   "metadata": {},
   "source": [
    "# Preparing Data"
   ]
  },
  {
   "cell_type": "markdown",
   "metadata": {},
   "source": [
    "## Load test target variable"
   ]
  },
  {
   "cell_type": "code",
   "execution_count": 3,
   "metadata": {
    "execution": {
     "iopub.execute_input": "2023-04-02T19:03:51.506200Z",
     "iopub.status.busy": "2023-04-02T19:03:51.505915Z",
     "iopub.status.idle": "2023-04-02T19:03:51.522739Z",
     "shell.execute_reply": "2023-04-02T19:03:51.521987Z",
     "shell.execute_reply.started": "2023-04-02T19:03:51.506184Z"
    },
    "tags": []
   },
   "outputs": [],
   "source": [
    "y_test = np.load('./data/y_test.npy')"
   ]
  },
  {
   "cell_type": "markdown",
   "metadata": {},
   "source": [
    "## Load predictions for all models"
   ]
  },
  {
   "cell_type": "code",
   "execution_count": 4,
   "metadata": {
    "execution": {
     "iopub.execute_input": "2023-04-02T19:03:51.524172Z",
     "iopub.status.busy": "2023-04-02T19:03:51.523968Z",
     "iopub.status.idle": "2023-04-02T19:03:51.610771Z",
     "shell.execute_reply": "2023-04-02T19:03:51.610055Z",
     "shell.execute_reply.started": "2023-04-02T19:03:51.524155Z"
    },
    "tags": []
   },
   "outputs": [],
   "source": [
    "# Prepare predictions for our models\n",
    "pred_dt = np.load('./data/pred_dt.npy')\n",
    "pred_dl = np.load('./data/pred_dl.npy')\n",
    "pred_knn = np.load('./data/pred_knn.npy')\n",
    "pred_lr = np.load('./data/pred_lr.npy')\n",
    "pred_rf = np.load('./data/pred_rf.npy')\n",
    "pred_svm = np.load('./data/pred_svm.npy')\n",
    "pred_xgb = np.load('./data/pred_xgb.npy')\n"
   ]
  },
  {
   "cell_type": "markdown",
   "metadata": {},
   "source": [
    "## Create \"models - predictions\" dictionaries"
   ]
  },
  {
   "cell_type": "markdown",
   "metadata": {},
   "source": [
    "**Dictionary `'models_pred'`**\n",
    "\n",
    "We are going to create the dictionary `models_pred` with names of all models and their predictions. We will be using it later for plotting and displaying results of the models."
   ]
  },
  {
   "cell_type": "code",
   "execution_count": 5,
   "metadata": {
    "execution": {
     "iopub.execute_input": "2023-04-02T19:03:51.611547Z",
     "iopub.status.busy": "2023-04-02T19:03:51.611374Z",
     "iopub.status.idle": "2023-04-02T19:03:51.616062Z",
     "shell.execute_reply": "2023-04-02T19:03:51.614701Z",
     "shell.execute_reply.started": "2023-04-02T19:03:51.611532Z"
    },
    "tags": []
   },
   "outputs": [],
   "source": [
    "# Create models_pred dictionary, contains all 7 models\n",
    "models_pred = {\n",
    "    'Decision Tree' : pred_dt,\n",
    "    'Deep Learning' : pred_dl,\n",
    "    'K-nearest Neighbors' : pred_knn,\n",
    "    'Logistic Regression' : pred_lr,\n",
    "    'Random Forest' : pred_rf,\n",
    "    'SVM' : pred_svm,\n",
    "    'XGBoost' : pred_xgb\n",
    "}"
   ]
  },
  {
   "cell_type": "code",
   "execution_count": 7,
   "metadata": {
    "execution": {
     "iopub.execute_input": "2023-04-02T19:03:51.624004Z",
     "iopub.status.busy": "2023-04-02T19:03:51.623659Z",
     "iopub.status.idle": "2023-04-02T19:03:51.630639Z",
     "shell.execute_reply": "2023-04-02T19:03:51.629927Z",
     "shell.execute_reply.started": "2023-04-02T19:03:51.623978Z"
    },
    "tags": []
   },
   "outputs": [],
   "source": [
    "# Create models_pred_2 dictionary, contains 2 models\n",
    "models_pred_2 = {\n",
    "    'Decision Tree' : pred_dt,\n",
    "    'Random Forest' : pred_rf\n",
    "}"
   ]
  },
  {
   "cell_type": "markdown",
   "metadata": {},
   "source": [
    "## Names of classes"
   ]
  },
  {
   "cell_type": "markdown",
   "metadata": {},
   "source": [
    "The `target_names` variable holds names of our classes. It will be used later for displaying evaluation results."
   ]
  },
  {
   "cell_type": "code",
   "execution_count": 8,
   "metadata": {
    "execution": {
     "iopub.execute_input": "2023-04-02T19:03:51.631735Z",
     "iopub.status.busy": "2023-04-02T19:03:51.631486Z",
     "iopub.status.idle": "2023-04-02T19:03:51.639639Z",
     "shell.execute_reply": "2023-04-02T19:03:51.638907Z",
     "shell.execute_reply.started": "2023-04-02T19:03:51.631706Z"
    },
    "tags": []
   },
   "outputs": [],
   "source": [
    "# Names of our classes\n",
    "target_names = ['Stays', 'Exits']"
   ]
  },
  {
   "cell_type": "code",
   "execution_count": null,
   "metadata": {},
   "outputs": [],
   "source": []
  },
  {
   "cell_type": "markdown",
   "metadata": {},
   "source": [
    "# Confusion Matrix"
   ]
  },
  {
   "cell_type": "markdown",
   "metadata": {},
   "source": [
    "## Why normalized confusion matrix?"
   ]
  },
  {
   "cell_type": "markdown",
   "metadata": {},
   "source": []
  },
  {
   "cell_type": "code",
   "execution_count": 9,
   "metadata": {
    "execution": {
     "iopub.execute_input": "2023-04-02T19:03:51.640370Z",
     "iopub.status.busy": "2023-04-02T19:03:51.640202Z",
     "iopub.status.idle": "2023-04-02T19:03:51.648981Z",
     "shell.execute_reply": "2023-04-02T19:03:51.647962Z",
     "shell.execute_reply.started": "2023-04-02T19:03:51.640355Z"
    },
    "tags": []
   },
   "outputs": [
    {
     "name": "stdout",
     "output_type": "stream",
     "text": [
      "[[1979  410]\n",
      " [ 198  413]]\n"
     ]
    }
   ],
   "source": [
    "# Confusion matrix\n",
    "cm = confusion_matrix(y_test, pred_dt)\n",
    "print(cm)"
   ]
  },
  {
   "cell_type": "markdown",
   "metadata": {},
   "source": []
  },
  {
   "cell_type": "code",
   "execution_count": 10,
   "metadata": {
    "execution": {
     "iopub.execute_input": "2023-04-02T19:03:51.651451Z",
     "iopub.status.busy": "2023-04-02T19:03:51.651226Z",
     "iopub.status.idle": "2023-04-02T19:03:51.655954Z",
     "shell.execute_reply": "2023-04-02T19:03:51.655196Z",
     "shell.execute_reply.started": "2023-04-02T19:03:51.651436Z"
    },
    "tags": []
   },
   "outputs": [
    {
     "name": "stdout",
     "output_type": "stream",
     "text": [
      "[[0.83 0.17]\n",
      " [0.32 0.68]]\n"
     ]
    }
   ],
   "source": [
    "# Normalized confusion matrix\n",
    "cm = np.around(cm / cm.sum(axis=1)[:, np.newaxis], 2)\n",
    "print(cm)"
   ]
  },
  {
   "cell_type": "code",
   "execution_count": null,
   "metadata": {},
   "outputs": [],
   "source": []
  },
  {
   "cell_type": "code",
   "execution_count": null,
   "metadata": {},
   "outputs": [],
   "source": []
  },
  {
   "cell_type": "markdown",
   "metadata": {},
   "source": [
    "## Helper Functions"
   ]
  },
  {
   "cell_type": "markdown",
   "metadata": {},
   "source": [
    "For displaying different ++++ we will be using previusly imported script `metrics_utilities`. It is a collection of several functions:\n",
    "\n",
    "- cm_cr - display unnormalized and normalized confusion matrix dataframes side by side, and classification report \n",
    "- plot_cm - plot unnormalized or normalized confusion matrix heatmap\n",
    "- plot_cm_unnorm_and_norm - one model's confusion matrix heatmaps without and with normalization side by side\n",
    "- plot_conf_matrices - plot heatmaps for normalized (default) or unnormalized confusion matrices for all models\n"
   ]
  },
  {
   "cell_type": "markdown",
   "metadata": {},
   "source": [
    "## Display Confusion Matrix Dataframes Side by Side - `cm_cr`"
   ]
  },
  {
   "cell_type": "markdown",
   "metadata": {},
   "source": [
    "?????????????????????  \n",
    "\n",
    "To call this function:  \n",
    "`mu.cm_cr(model_name, y_test, y_pred, target_names, cr=True)`\n",
    "\n",
    "<pre>Args:\n",
    "        model_name: name of the model\n",
    "        y_test: test target variable\n",
    "        y_pred: prediction\n",
    "        target_names: list of target class names\n",
    "        cr: print classification report if True - default\n",
    "\n",
    "Returns:\n",
    "        Display confusion matrix dataframes side by side\n",
    "        and classification report if selected (default)</pre>"
   ]
  },
  {
   "cell_type": "markdown",
   "metadata": {
    "execution": {
     "iopub.execute_input": "2023-03-29T15:52:01.153043Z",
     "iopub.status.busy": "2023-03-29T15:52:01.152203Z",
     "iopub.status.idle": "2023-03-29T15:52:01.161156Z",
     "shell.execute_reply": "2023-03-29T15:52:01.159592Z",
     "shell.execute_reply.started": "2023-03-29T15:52:01.152987Z"
    }
   },
   "source": [
    "### One model"
   ]
  },
  {
   "cell_type": "markdown",
   "metadata": {},
   "source": [
    "#### confusion matrix only"
   ]
  },
  {
   "cell_type": "code",
   "execution_count": 11,
   "metadata": {
    "execution": {
     "iopub.execute_input": "2023-04-02T19:03:51.656807Z",
     "iopub.status.busy": "2023-04-02T19:03:51.656604Z",
     "iopub.status.idle": "2023-04-02T19:03:51.770486Z",
     "shell.execute_reply": "2023-04-02T19:03:51.769655Z",
     "shell.execute_reply.started": "2023-04-02T19:03:51.656793Z"
    },
    "tags": []
   },
   "outputs": [
    {
     "name": "stdout",
     "output_type": "stream",
     "text": [
      "                       Random Forest\n",
      "                       =============\n"
     ]
    },
    {
     "data": {
      "text/html": [
       "  <style type=\"text/css\">\n",
       "</style>\n",
       "<table id=\"T_16ab2\" style='display:inline'>\n",
       "  <caption>Confusion Matrix</caption>\n",
       "  <thead>\n",
       "    <tr>\n",
       "      <th class=\"index_name level0\" >PREDICTED</th>\n",
       "      <th id=\"T_16ab2_level0_col0\" class=\"col_heading level0 col0\" >Stays</th>\n",
       "      <th id=\"T_16ab2_level0_col1\" class=\"col_heading level0 col1\" >Exits</th>\n",
       "    </tr>\n",
       "    <tr>\n",
       "      <th class=\"index_name level0\" >TRUE</th>\n",
       "      <th class=\"blank col0\" >&nbsp;</th>\n",
       "      <th class=\"blank col1\" >&nbsp;</th>\n",
       "    </tr>\n",
       "  </thead>\n",
       "  <tbody>\n",
       "    <tr>\n",
       "      <th id=\"T_16ab2_level0_row0\" class=\"row_heading level0 row0\" >Stays</th>\n",
       "      <td id=\"T_16ab2_row0_col0\" class=\"data row0 col0\" >2137</td>\n",
       "      <td id=\"T_16ab2_row0_col1\" class=\"data row0 col1\" >252</td>\n",
       "    </tr>\n",
       "    <tr>\n",
       "      <th id=\"T_16ab2_level0_row1\" class=\"row_heading level0 row1\" >Exits</th>\n",
       "      <td id=\"T_16ab2_row1_col0\" class=\"data row1 col0\" >233</td>\n",
       "      <td id=\"T_16ab2_row1_col1\" class=\"data row1 col1\" >378</td>\n",
       "    </tr>\n",
       "  </tbody>\n",
       "</table>\n",
       "               <style type=\"text/css\">\n",
       "</style>\n",
       "<table id=\"T_d95c7\" style='display:inline'>\n",
       "  <caption>Normalized Confusion Matrix</caption>\n",
       "  <thead>\n",
       "    <tr>\n",
       "      <th class=\"index_name level0\" >PREDICTED</th>\n",
       "      <th id=\"T_d95c7_level0_col0\" class=\"col_heading level0 col0\" >Stays</th>\n",
       "      <th id=\"T_d95c7_level0_col1\" class=\"col_heading level0 col1\" >Exits</th>\n",
       "    </tr>\n",
       "    <tr>\n",
       "      <th class=\"index_name level0\" >TRUE</th>\n",
       "      <th class=\"blank col0\" >&nbsp;</th>\n",
       "      <th class=\"blank col1\" >&nbsp;</th>\n",
       "    </tr>\n",
       "  </thead>\n",
       "  <tbody>\n",
       "    <tr>\n",
       "      <th id=\"T_d95c7_level0_row0\" class=\"row_heading level0 row0\" >Stays</th>\n",
       "      <td id=\"T_d95c7_row0_col0\" class=\"data row0 col0\" >0.89</td>\n",
       "      <td id=\"T_d95c7_row0_col1\" class=\"data row0 col1\" >0.11</td>\n",
       "    </tr>\n",
       "    <tr>\n",
       "      <th id=\"T_d95c7_level0_row1\" class=\"row_heading level0 row1\" >Exits</th>\n",
       "      <td id=\"T_d95c7_row1_col0\" class=\"data row1 col0\" >0.38</td>\n",
       "      <td id=\"T_d95c7_row1_col1\" class=\"data row1 col1\" >0.62</td>\n",
       "    </tr>\n",
       "  </tbody>\n",
       "</table>\n"
      ]
     },
     "metadata": {},
     "output_type": "display_data"
    },
    {
     "name": "stdout",
     "output_type": "stream",
     "text": [
      "\n"
     ]
    }
   ],
   "source": [
    "mu.cm_cr('Random Forest', y_test, pred_rf, target_names, cr=False)"
   ]
  },
  {
   "cell_type": "markdown",
   "metadata": {},
   "source": [
    "#### Confusion matrix and classification report"
   ]
  },
  {
   "cell_type": "code",
   "execution_count": 12,
   "metadata": {
    "execution": {
     "iopub.execute_input": "2023-04-02T19:03:51.771676Z",
     "iopub.status.busy": "2023-04-02T19:03:51.771422Z",
     "iopub.status.idle": "2023-04-02T19:03:51.790296Z",
     "shell.execute_reply": "2023-04-02T19:03:51.789528Z",
     "shell.execute_reply.started": "2023-04-02T19:03:51.771660Z"
    },
    "tags": []
   },
   "outputs": [
    {
     "name": "stdout",
     "output_type": "stream",
     "text": [
      "                       Random Forest\n",
      "                       =============\n"
     ]
    },
    {
     "data": {
      "text/html": [
       "  <style type=\"text/css\">\n",
       "</style>\n",
       "<table id=\"T_3b780\" style='display:inline'>\n",
       "  <caption>Confusion Matrix</caption>\n",
       "  <thead>\n",
       "    <tr>\n",
       "      <th class=\"index_name level0\" >PREDICTED</th>\n",
       "      <th id=\"T_3b780_level0_col0\" class=\"col_heading level0 col0\" >Stays</th>\n",
       "      <th id=\"T_3b780_level0_col1\" class=\"col_heading level0 col1\" >Exits</th>\n",
       "    </tr>\n",
       "    <tr>\n",
       "      <th class=\"index_name level0\" >TRUE</th>\n",
       "      <th class=\"blank col0\" >&nbsp;</th>\n",
       "      <th class=\"blank col1\" >&nbsp;</th>\n",
       "    </tr>\n",
       "  </thead>\n",
       "  <tbody>\n",
       "    <tr>\n",
       "      <th id=\"T_3b780_level0_row0\" class=\"row_heading level0 row0\" >Stays</th>\n",
       "      <td id=\"T_3b780_row0_col0\" class=\"data row0 col0\" >2137</td>\n",
       "      <td id=\"T_3b780_row0_col1\" class=\"data row0 col1\" >252</td>\n",
       "    </tr>\n",
       "    <tr>\n",
       "      <th id=\"T_3b780_level0_row1\" class=\"row_heading level0 row1\" >Exits</th>\n",
       "      <td id=\"T_3b780_row1_col0\" class=\"data row1 col0\" >233</td>\n",
       "      <td id=\"T_3b780_row1_col1\" class=\"data row1 col1\" >378</td>\n",
       "    </tr>\n",
       "  </tbody>\n",
       "</table>\n",
       "               <style type=\"text/css\">\n",
       "</style>\n",
       "<table id=\"T_22673\" style='display:inline'>\n",
       "  <caption>Normalized Confusion Matrix</caption>\n",
       "  <thead>\n",
       "    <tr>\n",
       "      <th class=\"index_name level0\" >PREDICTED</th>\n",
       "      <th id=\"T_22673_level0_col0\" class=\"col_heading level0 col0\" >Stays</th>\n",
       "      <th id=\"T_22673_level0_col1\" class=\"col_heading level0 col1\" >Exits</th>\n",
       "    </tr>\n",
       "    <tr>\n",
       "      <th class=\"index_name level0\" >TRUE</th>\n",
       "      <th class=\"blank col0\" >&nbsp;</th>\n",
       "      <th class=\"blank col1\" >&nbsp;</th>\n",
       "    </tr>\n",
       "  </thead>\n",
       "  <tbody>\n",
       "    <tr>\n",
       "      <th id=\"T_22673_level0_row0\" class=\"row_heading level0 row0\" >Stays</th>\n",
       "      <td id=\"T_22673_row0_col0\" class=\"data row0 col0\" >0.89</td>\n",
       "      <td id=\"T_22673_row0_col1\" class=\"data row0 col1\" >0.11</td>\n",
       "    </tr>\n",
       "    <tr>\n",
       "      <th id=\"T_22673_level0_row1\" class=\"row_heading level0 row1\" >Exits</th>\n",
       "      <td id=\"T_22673_row1_col0\" class=\"data row1 col0\" >0.38</td>\n",
       "      <td id=\"T_22673_row1_col1\" class=\"data row1 col1\" >0.62</td>\n",
       "    </tr>\n",
       "  </tbody>\n",
       "</table>\n"
      ]
     },
     "metadata": {},
     "output_type": "display_data"
    },
    {
     "name": "stdout",
     "output_type": "stream",
     "text": [
      "\n",
      "              precision    recall  f1-score   support\n",
      "\n",
      "       Stays       0.90      0.89      0.90      2389\n",
      "       Exits       0.60      0.62      0.61       611\n",
      "\n",
      "    accuracy                           0.84      3000\n",
      "   macro avg       0.75      0.76      0.75      3000\n",
      "weighted avg       0.84      0.84      0.84      3000\n",
      "\n",
      "\n"
     ]
    }
   ],
   "source": [
    "mu.cm_cr('Random Forest', y_test, pred_rf, target_names)"
   ]
  },
  {
   "cell_type": "markdown",
   "metadata": {
    "execution": {
     "iopub.status.busy": "2023-03-29T15:52:01.162456Z",
     "iopub.status.idle": "2023-03-29T15:52:01.162749Z",
     "shell.execute_reply": "2023-03-29T15:52:01.162635Z",
     "shell.execute_reply.started": "2023-03-29T15:52:01.162621Z"
    }
   },
   "source": [
    "### Multiple models"
   ]
  },
  {
   "cell_type": "code",
   "execution_count": 13,
   "metadata": {
    "execution": {
     "iopub.execute_input": "2023-04-02T19:03:51.791876Z",
     "iopub.status.busy": "2023-04-02T19:03:51.791075Z",
     "iopub.status.idle": "2023-04-02T19:03:51.818648Z",
     "shell.execute_reply": "2023-04-02T19:03:51.817915Z",
     "shell.execute_reply.started": "2023-04-02T19:03:51.791858Z"
    },
    "scrolled": true,
    "tags": []
   },
   "outputs": [
    {
     "name": "stdout",
     "output_type": "stream",
     "text": [
      "                       Decision Tree\n",
      "                       =============\n"
     ]
    },
    {
     "data": {
      "text/html": [
       "  <style type=\"text/css\">\n",
       "</style>\n",
       "<table id=\"T_f9128\" style='display:inline'>\n",
       "  <caption>Confusion Matrix</caption>\n",
       "  <thead>\n",
       "    <tr>\n",
       "      <th class=\"index_name level0\" >PREDICTED</th>\n",
       "      <th id=\"T_f9128_level0_col0\" class=\"col_heading level0 col0\" >Stays</th>\n",
       "      <th id=\"T_f9128_level0_col1\" class=\"col_heading level0 col1\" >Exits</th>\n",
       "    </tr>\n",
       "    <tr>\n",
       "      <th class=\"index_name level0\" >TRUE</th>\n",
       "      <th class=\"blank col0\" >&nbsp;</th>\n",
       "      <th class=\"blank col1\" >&nbsp;</th>\n",
       "    </tr>\n",
       "  </thead>\n",
       "  <tbody>\n",
       "    <tr>\n",
       "      <th id=\"T_f9128_level0_row0\" class=\"row_heading level0 row0\" >Stays</th>\n",
       "      <td id=\"T_f9128_row0_col0\" class=\"data row0 col0\" >1979</td>\n",
       "      <td id=\"T_f9128_row0_col1\" class=\"data row0 col1\" >410</td>\n",
       "    </tr>\n",
       "    <tr>\n",
       "      <th id=\"T_f9128_level0_row1\" class=\"row_heading level0 row1\" >Exits</th>\n",
       "      <td id=\"T_f9128_row1_col0\" class=\"data row1 col0\" >198</td>\n",
       "      <td id=\"T_f9128_row1_col1\" class=\"data row1 col1\" >413</td>\n",
       "    </tr>\n",
       "  </tbody>\n",
       "</table>\n",
       "               <style type=\"text/css\">\n",
       "</style>\n",
       "<table id=\"T_7ee83\" style='display:inline'>\n",
       "  <caption>Normalized Confusion Matrix</caption>\n",
       "  <thead>\n",
       "    <tr>\n",
       "      <th class=\"index_name level0\" >PREDICTED</th>\n",
       "      <th id=\"T_7ee83_level0_col0\" class=\"col_heading level0 col0\" >Stays</th>\n",
       "      <th id=\"T_7ee83_level0_col1\" class=\"col_heading level0 col1\" >Exits</th>\n",
       "    </tr>\n",
       "    <tr>\n",
       "      <th class=\"index_name level0\" >TRUE</th>\n",
       "      <th class=\"blank col0\" >&nbsp;</th>\n",
       "      <th class=\"blank col1\" >&nbsp;</th>\n",
       "    </tr>\n",
       "  </thead>\n",
       "  <tbody>\n",
       "    <tr>\n",
       "      <th id=\"T_7ee83_level0_row0\" class=\"row_heading level0 row0\" >Stays</th>\n",
       "      <td id=\"T_7ee83_row0_col0\" class=\"data row0 col0\" >0.83</td>\n",
       "      <td id=\"T_7ee83_row0_col1\" class=\"data row0 col1\" >0.17</td>\n",
       "    </tr>\n",
       "    <tr>\n",
       "      <th id=\"T_7ee83_level0_row1\" class=\"row_heading level0 row1\" >Exits</th>\n",
       "      <td id=\"T_7ee83_row1_col0\" class=\"data row1 col0\" >0.32</td>\n",
       "      <td id=\"T_7ee83_row1_col1\" class=\"data row1 col1\" >0.68</td>\n",
       "    </tr>\n",
       "  </tbody>\n",
       "</table>\n"
      ]
     },
     "metadata": {},
     "output_type": "display_data"
    },
    {
     "name": "stdout",
     "output_type": "stream",
     "text": [
      "\n",
      "              precision    recall  f1-score   support\n",
      "\n",
      "       Stays       0.91      0.83      0.87      2389\n",
      "       Exits       0.50      0.68      0.58       611\n",
      "\n",
      "    accuracy                           0.80      3000\n",
      "   macro avg       0.71      0.75      0.72      3000\n",
      "weighted avg       0.83      0.80      0.81      3000\n",
      "\n",
      "\n",
      "                       Random Forest\n",
      "                       =============\n"
     ]
    },
    {
     "data": {
      "text/html": [
       "  <style type=\"text/css\">\n",
       "</style>\n",
       "<table id=\"T_44486\" style='display:inline'>\n",
       "  <caption>Confusion Matrix</caption>\n",
       "  <thead>\n",
       "    <tr>\n",
       "      <th class=\"index_name level0\" >PREDICTED</th>\n",
       "      <th id=\"T_44486_level0_col0\" class=\"col_heading level0 col0\" >Stays</th>\n",
       "      <th id=\"T_44486_level0_col1\" class=\"col_heading level0 col1\" >Exits</th>\n",
       "    </tr>\n",
       "    <tr>\n",
       "      <th class=\"index_name level0\" >TRUE</th>\n",
       "      <th class=\"blank col0\" >&nbsp;</th>\n",
       "      <th class=\"blank col1\" >&nbsp;</th>\n",
       "    </tr>\n",
       "  </thead>\n",
       "  <tbody>\n",
       "    <tr>\n",
       "      <th id=\"T_44486_level0_row0\" class=\"row_heading level0 row0\" >Stays</th>\n",
       "      <td id=\"T_44486_row0_col0\" class=\"data row0 col0\" >2137</td>\n",
       "      <td id=\"T_44486_row0_col1\" class=\"data row0 col1\" >252</td>\n",
       "    </tr>\n",
       "    <tr>\n",
       "      <th id=\"T_44486_level0_row1\" class=\"row_heading level0 row1\" >Exits</th>\n",
       "      <td id=\"T_44486_row1_col0\" class=\"data row1 col0\" >233</td>\n",
       "      <td id=\"T_44486_row1_col1\" class=\"data row1 col1\" >378</td>\n",
       "    </tr>\n",
       "  </tbody>\n",
       "</table>\n",
       "               <style type=\"text/css\">\n",
       "</style>\n",
       "<table id=\"T_7d6e0\" style='display:inline'>\n",
       "  <caption>Normalized Confusion Matrix</caption>\n",
       "  <thead>\n",
       "    <tr>\n",
       "      <th class=\"index_name level0\" >PREDICTED</th>\n",
       "      <th id=\"T_7d6e0_level0_col0\" class=\"col_heading level0 col0\" >Stays</th>\n",
       "      <th id=\"T_7d6e0_level0_col1\" class=\"col_heading level0 col1\" >Exits</th>\n",
       "    </tr>\n",
       "    <tr>\n",
       "      <th class=\"index_name level0\" >TRUE</th>\n",
       "      <th class=\"blank col0\" >&nbsp;</th>\n",
       "      <th class=\"blank col1\" >&nbsp;</th>\n",
       "    </tr>\n",
       "  </thead>\n",
       "  <tbody>\n",
       "    <tr>\n",
       "      <th id=\"T_7d6e0_level0_row0\" class=\"row_heading level0 row0\" >Stays</th>\n",
       "      <td id=\"T_7d6e0_row0_col0\" class=\"data row0 col0\" >0.89</td>\n",
       "      <td id=\"T_7d6e0_row0_col1\" class=\"data row0 col1\" >0.11</td>\n",
       "    </tr>\n",
       "    <tr>\n",
       "      <th id=\"T_7d6e0_level0_row1\" class=\"row_heading level0 row1\" >Exits</th>\n",
       "      <td id=\"T_7d6e0_row1_col0\" class=\"data row1 col0\" >0.38</td>\n",
       "      <td id=\"T_7d6e0_row1_col1\" class=\"data row1 col1\" >0.62</td>\n",
       "    </tr>\n",
       "  </tbody>\n",
       "</table>\n"
      ]
     },
     "metadata": {},
     "output_type": "display_data"
    },
    {
     "name": "stdout",
     "output_type": "stream",
     "text": [
      "\n",
      "              precision    recall  f1-score   support\n",
      "\n",
      "       Stays       0.90      0.89      0.90      2389\n",
      "       Exits       0.60      0.62      0.61       611\n",
      "\n",
      "    accuracy                           0.84      3000\n",
      "   macro avg       0.75      0.76      0.75      3000\n",
      "weighted avg       0.84      0.84      0.84      3000\n",
      "\n",
      "\n"
     ]
    }
   ],
   "source": [
    "# Display classification report and confusion matrix for all models \n",
    "#  models_pred_2 dictionary\n",
    "for model, pred in models_pred_2.items():\n",
    "    mu.cm_cr(model, y_test, pred, target_names)"
   ]
  },
  {
   "cell_type": "code",
   "execution_count": null,
   "metadata": {},
   "outputs": [],
   "source": []
  },
  {
   "cell_type": "markdown",
   "metadata": {},
   "source": [
    "## Plot confusion matrix heatmaps for one model - `plot_cm`"
   ]
  },
  {
   "cell_type": "markdown",
   "metadata": {},
   "source": [
    "?????????????????????????  \n",
    "\n",
    "Args:\n",
    "        model_name: name of the model\n",
    "        y_test: test target variable\n",
    "        y_pred: prediction\n",
    "        target_names: list of target class names\n",
    "        color: color palette\n",
    "        norm: plot normalized matrix if True - default \n",
    "              plot unnormalized matrix if False\n",
    "\n",
    "    Returns:\n",
    "        Plot one model's confusion matrix,\n",
    "         normalized (default) or unnormalized\n",
    "    \"\"\""
   ]
  },
  {
   "cell_type": "markdown",
   "metadata": {},
   "source": [
    "### Unnormalized matrix"
   ]
  },
  {
   "cell_type": "code",
   "execution_count": 14,
   "metadata": {
    "execution": {
     "iopub.execute_input": "2023-04-02T19:03:51.819548Z",
     "iopub.status.busy": "2023-04-02T19:03:51.819359Z",
     "iopub.status.idle": "2023-04-02T19:03:52.004674Z",
     "shell.execute_reply": "2023-04-02T19:03:52.003855Z",
     "shell.execute_reply.started": "2023-04-02T19:03:51.819534Z"
    },
    "tags": []
   },
   "outputs": [
    {
     "data": {
      "image/png": "[encoded data removed]",
      "text/plain": [
       "<Figure size 432x288 with 2 Axes>"
      ]
     },
     "metadata": {},
     "output_type": "display_data"
    }
   ],
   "source": [
    "mu.plot_cm('XGBoost', y_test, pred_xgb, target_names, \"Blues\", norm=False)"
   ]
  },
  {
   "cell_type": "markdown",
   "metadata": {},
   "source": [
    "### Normalized matrix"
   ]
  },
  {
   "cell_type": "code",
   "execution_count": 15,
   "metadata": {
    "execution": {
     "iopub.execute_input": "2023-04-02T19:03:52.005682Z",
     "iopub.status.busy": "2023-04-02T19:03:52.005487Z",
     "iopub.status.idle": "2023-04-02T19:03:52.199650Z",
     "shell.execute_reply": "2023-04-02T19:03:52.198662Z",
     "shell.execute_reply.started": "2023-04-02T19:03:52.005667Z"
    },
    "tags": []
   },
   "outputs": [
    {
     "data": {
      "image/png": "[encoded data removed]",
      "text/plain": [
       "<Figure size 432x288 with 2 Axes>"
      ]
     },
     "metadata": {},
     "output_type": "display_data"
    }
   ],
   "source": [
    "mu.plot_cm('XGBoost', y_test, pred_xgb, target_names, \"Blues\", norm=True)"
   ]
  },
  {
   "cell_type": "code",
   "execution_count": null,
   "metadata": {},
   "outputs": [],
   "source": []
  },
  {
   "cell_type": "code",
   "execution_count": null,
   "metadata": {},
   "outputs": [],
   "source": []
  },
  {
   "cell_type": "markdown",
   "metadata": {},
   "source": [
    "## Unnormalized and normalized confusion matrix heatmaps side by side - `plot_cm_unnorm_and_norm`"
   ]
  },
  {
   "cell_type": "markdown",
   "metadata": {},
   "source": [
    "????????????????????????????  \n",
    "\n",
    "Args:\n",
    "        model_name: name of the model\n",
    "        y_test: test target variable\n",
    "        y_pred: prediction\n",
    "        target_names: list of target class names\n",
    "        color: color palette\n",
    "\n",
    "    Returns:\n",
    "        Plot one model's confusion matrix heatmaps side by side\n",
    "        left unnormalized and right normalized"
   ]
  },
  {
   "cell_type": "code",
   "execution_count": 16,
   "metadata": {
    "execution": {
     "iopub.execute_input": "2023-04-02T19:03:52.201491Z",
     "iopub.status.busy": "2023-04-02T19:03:52.200753Z",
     "iopub.status.idle": "2023-04-02T19:03:52.594063Z",
     "shell.execute_reply": "2023-04-02T19:03:52.593379Z",
     "shell.execute_reply.started": "2023-04-02T19:03:52.201468Z"
    },
    "tags": []
   },
   "outputs": [
    {
     "data": {
      "image/png": "[encoded data removed]",
      "text/plain": [
       "<Figure size 864x288 with 4 Axes>"
      ]
     },
     "metadata": {},
     "output_type": "display_data"
    }
   ],
   "source": [
    "# Plot confusion matrix and its normalized version.\n",
    "mu.plot_cm_unnorm_and_norm('XGBoost', y_test, pred_xgb, target_names, 'Reds')"
   ]
  },
  {
   "cell_type": "code",
   "execution_count": null,
   "metadata": {},
   "outputs": [],
   "source": []
  },
  {
   "cell_type": "markdown",
   "metadata": {},
   "source": [
    "## Confusion Matrix Heatmaps for Multiple Models - `plot_conf_matrices`"
   ]
  },
  {
   "cell_type": "markdown",
   "metadata": {},
   "source": [
    "????????????????????????????   \n",
    "\n",
    "multiple >2\n",
    "\n",
    "Args:\n",
    "        models_pred: dictionary with model names as keys and predictions as values \n",
    "        y_test: test target variable\n",
    "        target_names: list of target class names\n",
    "        color: color palette\n",
    "        norm: plot normalized matrices if True - default \n",
    "              plot unnormalized matrices if False\n",
    "\n",
    "    Returns:\n",
    "        Plot all model's confusion matrix heatmaps, 2 per row,\n",
    "        normalized (default) or unnormalized"
   ]
  },
  {
   "cell_type": "markdown",
   "metadata": {},
   "source": [
    "=========   \n",
    "2 columns  \n",
    "==============\n"
   ]
  },
  {
   "cell_type": "markdown",
   "metadata": {
    "tags": []
   },
   "source": [
    "### Two Models - Normalized Connfusion Matrices"
   ]
  },
  {
   "cell_type": "code",
   "execution_count": 17,
   "metadata": {
    "execution": {
     "iopub.execute_input": "2023-04-02T19:03:52.594922Z",
     "iopub.status.busy": "2023-04-02T19:03:52.594735Z",
     "iopub.status.idle": "2023-04-02T19:03:52.808567Z",
     "shell.execute_reply": "2023-04-02T19:03:52.807799Z",
     "shell.execute_reply.started": "2023-04-02T19:03:52.594907Z"
    },
    "tags": []
   },
   "outputs": [
    {
     "data": {
      "image/png": "[encoded data removed]",
      "text/plain": [
       "<Figure size 720x288 with 2 Axes>"
      ]
     },
     "metadata": {},
     "output_type": "display_data"
    }
   ],
   "source": [
    "# Plot all confusion matrices \n",
    "mu.plot_conf_matrices(models_pred_2, y_test, target_names, 'Reds')"
   ]
  },
  {
   "cell_type": "code",
   "execution_count": null,
   "metadata": {},
   "outputs": [],
   "source": []
  },
  {
   "cell_type": "markdown",
   "metadata": {
    "tags": []
   },
   "source": [
    "### Two Models - Unnormalized Confusion Matrices"
   ]
  },
  {
   "cell_type": "code",
   "execution_count": 18,
   "metadata": {
    "execution": {
     "iopub.execute_input": "2023-04-02T19:03:52.809411Z",
     "iopub.status.busy": "2023-04-02T19:03:52.809218Z",
     "iopub.status.idle": "2023-04-02T19:03:53.017139Z",
     "shell.execute_reply": "2023-04-02T19:03:53.016065Z",
     "shell.execute_reply.started": "2023-04-02T19:03:52.809397Z"
    },
    "tags": []
   },
   "outputs": [
    {
     "data": {
      "image/png": "[encoded data removed]",
      "text/plain": [
       "<Figure size 720x288 with 2 Axes>"
      ]
     },
     "metadata": {},
     "output_type": "display_data"
    }
   ],
   "source": [
    "# Plot all confusion matrices \n",
    "mu.plot_conf_matrices(models_pred_2, y_test, target_names, 'Reds', norm=False)"
   ]
  },
  {
   "cell_type": "code",
   "execution_count": null,
   "metadata": {},
   "outputs": [],
   "source": []
  },
  {
   "cell_type": "markdown",
   "metadata": {
    "tags": []
   },
   "source": [
    "### All models"
   ]
  },
  {
   "cell_type": "code",
   "execution_count": 19,
   "metadata": {
    "execution": {
     "iopub.execute_input": "2023-04-02T19:03:53.018509Z",
     "iopub.status.busy": "2023-04-02T19:03:53.018213Z",
     "iopub.status.idle": "2023-04-02T19:03:54.428015Z",
     "shell.execute_reply": "2023-04-02T19:03:54.427249Z",
     "shell.execute_reply.started": "2023-04-02T19:03:53.018479Z"
    },
    "tags": []
   },
   "outputs": [
    {
     "data": {
      "image/png": "[encoded data removed]",
      "text/plain": [
       "<Figure size 720x1152 with 7 Axes>"
      ]
     },
     "metadata": {},
     "output_type": "display_data"
    }
   ],
   "source": [
    "# Plot all confusion matrices \n",
    "mu.plot_conf_matrices(models_pred, y_test, target_names, 'Reds')"
   ]
  },
  {
   "cell_type": "code",
   "execution_count": null,
   "metadata": {},
   "outputs": [],
   "source": []
  },
  {
   "cell_type": "markdown",
   "metadata": {},
   "source": [
    "**NOTE:**  \n",
    "\n",
    "- in matplotlib >3.5.2 `dpi` default value was changed from 72 to 100\n",
    "- deafult `figsize` was also changed: 6.0, 4.0 &rarr; 6.4, 4.8\n",
    "- in our functions we used `dpi=72` and `figsize=(6.0, 4.0)`\n"
   ]
  },
  {
   "cell_type": "code",
   "execution_count": null,
   "metadata": {},
   "outputs": [],
   "source": []
  }
 ],
 "metadata": {
  "kernelspec": {
   "display_name": "omdena",
   "language": "python",
   "name": "conda-env-omdena-py"
  },
  "language_info": {
   "codemirror_mode": {
    "name": "ipython",
    "version": 3
   },
   "file_extension": ".py",
   "mimetype": "text/x-python",
   "name": "python",
   "nbconvert_exporter": "python",
   "pygments_lexer": "ipython3",
   "version": "3.11.2"
  },
  "toc-autonumbering": false,
  "widgets": {
   "application/vnd.jupyter.widget-state+json": {
    "state": {},
    "version_major": 2,
    "version_minor": 0
   }
  }
 },
 "nbformat": 4,
 "nbformat_minor": 4
}
