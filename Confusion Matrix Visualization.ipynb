{
 "cells": [
  {
   "cell_type": "markdown",
   "metadata": {},
   "source": [
    "<font size=\"12\">Confusion Matrix Visualization</font>"
   ]
  },
  {
   "cell_type": "markdown",
   "metadata": {},
   "source": [
    "In machine learning a confusion matrix is a kind of a table that is used to understand how well our classification model predictions perform, typically a supervised learning. It helps us a lot in understanding the model behavior and interpreting the results.  \n",
    "\n",
    "In this notebook we will not discuss how to interpret a confusion matrix, that could be find [here](https://en.wikipedia.org/wiki/Confusion_matrix). Instead, we will present several ways of how to visualize a confusion matrix.\n",
    "\n",
    "#### Axes convention\n",
    "In the literature, we can find two variants for representing the samples in a confusion matrix:\n",
    "1. each row of the matrix represents samples in an *actual* class, and each column represents samples in a *predicted* class\n",
    "2. in the other variant, this arrangement is reversed \n",
    "\n",
    "In this notebook we will use the first variant (Sklearn representation), where *actual* labels are on the horizontal axes and *predicted* labels on the vertical axes, with the default parameter `labels=[0,1]`, meaning TN (True Negatrive) is at the top left corner.\n",
    "\n",
    "<img src=\"images/cm_convention_table.png\">\n",
    "\n",
    "#### Topics\n",
    "Some of the topics covered in this notebook:  \n",
    "\n",
    "- normalized vs. unnormalized matrix\n",
    "- confusion matrix arrays \n",
    "- confusion matrix dataframes, side by side\n",
    "- plotting:\n",
    "  - single confusion matrix heatmap\n",
    "  - unnormalized and normalized heatmaps, side by side\n",
    "  - multiple (two and more) confusion matrices, in two columns\n",
    "  - using Sankey diagram\n",
    "\n"
   ]
  },
  {
   "cell_type": "markdown",
   "metadata": {},
   "source": [
    "# Dependencies"
   ]
  },
  {
   "cell_type": "code",
   "execution_count": 1,
   "metadata": {
    "execution": {
     "iopub.execute_input": "2023-07-21T00:17:38.092388Z",
     "iopub.status.busy": "2023-07-21T00:17:38.091341Z",
     "iopub.status.idle": "2023-07-21T00:17:38.519834Z",
     "shell.execute_reply": "2023-07-21T00:17:38.518428Z",
     "shell.execute_reply.started": "2023-07-21T00:17:38.092364Z"
    },
    "tags": []
   },
   "outputs": [],
   "source": [
    "import numpy as np\n",
    "import os\n",
    "\n",
    "# Classification metrics\n",
    "from sklearn.metrics import confusion_matrix "
   ]
  },
  {
   "cell_type": "markdown",
   "metadata": {},
   "source": [
    "**Plotly dependencies**"
   ]
  },
  {
   "cell_type": "code",
   "execution_count": 2,
   "metadata": {
    "execution": {
     "iopub.execute_input": "2023-07-21T00:17:38.521330Z",
     "iopub.status.busy": "2023-07-21T00:17:38.521047Z",
     "iopub.status.idle": "2023-07-21T00:17:38.604318Z",
     "shell.execute_reply": "2023-07-21T00:17:38.603591Z",
     "shell.execute_reply.started": "2023-07-21T00:17:38.521300Z"
    },
    "tags": []
   },
   "outputs": [],
   "source": [
    "from plotly import graph_objects as go\n",
    "\n",
    "# Set the appropriate renderer in Jupyter Lab to allow Plotly displays figure correctly\n",
    "# Set the default renderer explicitly as iframe \n",
    "import plotly.io as pio\n",
    "pio.renderers.default = 'iframe' \n",
    "\n",
    "# If multiple notebooks are using 'iframe', set different 'html_directory' for each notebook\n",
    "iframe_renderer = pio.renderers['iframe']\n",
    "iframe_renderer.html_directory='iframe_figures_n2'"
   ]
  },
  {
   "cell_type": "markdown",
   "metadata": {},
   "source": [
    "## Helper Functions"
   ]
  },
  {
   "cell_type": "markdown",
   "metadata": {},
   "source": [
    "To help us with visualizations, we will import the script `metrics_utilities`. It is a collection of several helper functions:\n",
    "\n",
    "- cm_cr - display unnormalized and normalized confusion matrix dataframes side by side, and classification report \n",
    "- plot_cm - plot unnormalized or normalized confusion matrix heatmap\n",
    "- plot_cm_unnorm_and_norm - one model's confusion matrix heatmaps without and with normalization, side by side\n",
    "- plot_conf_matrices - plot heatmaps for normalized (default) or unnormalized confusion matrices for multiple models\n",
    "- plot_cm_sankey - interactive confusion matrix using Sankey diagram\n"
   ]
  },
  {
   "cell_type": "code",
   "execution_count": 3,
   "metadata": {
    "execution": {
     "iopub.execute_input": "2023-07-21T00:17:38.605337Z",
     "iopub.status.busy": "2023-07-21T00:17:38.605090Z",
     "iopub.status.idle": "2023-07-21T00:17:39.191631Z",
     "shell.execute_reply": "2023-07-21T00:17:39.190603Z",
     "shell.execute_reply.started": "2023-07-21T00:17:38.605319Z"
    },
    "tags": []
   },
   "outputs": [],
   "source": [
    "# Import the script from different folder\n",
    "import sys  \n",
    "sys.path.append('./scripts')\n",
    "\n",
    "import metrics_utilities as mu"
   ]
  },
  {
   "cell_type": "markdown",
   "metadata": {},
   "source": [
    "# Preparing Data"
   ]
  },
  {
   "cell_type": "markdown",
   "metadata": {},
   "source": [
    "The data used in this notebook is a result from one of my previous projects - [Bank-Churn-Prediction](https://github.com/zunicd/Bank-Churn-Prediction). <br>\n",
    "I saved the true labels and predictions in `.npy` format and in the next two cells we will load them."
   ]
  },
  {
   "cell_type": "markdown",
   "metadata": {},
   "source": [
    "## Load Test True (Actual) Labels"
   ]
  },
  {
   "cell_type": "code",
   "execution_count": 4,
   "metadata": {
    "execution": {
     "iopub.execute_input": "2023-07-21T00:17:39.194794Z",
     "iopub.status.busy": "2023-07-21T00:17:39.194170Z",
     "iopub.status.idle": "2023-07-21T00:17:39.207692Z",
     "shell.execute_reply": "2023-07-21T00:17:39.206465Z",
     "shell.execute_reply.started": "2023-07-21T00:17:39.194759Z"
    },
    "tags": []
   },
   "outputs": [],
   "source": [
    "# True labels\n",
    "y_test = np.load('./data/y_test.npy')"
   ]
  },
  {
   "cell_type": "markdown",
   "metadata": {},
   "source": [
    "## Load Predictions"
   ]
  },
  {
   "cell_type": "code",
   "execution_count": 5,
   "metadata": {
    "execution": {
     "iopub.execute_input": "2023-07-21T00:17:39.210655Z",
     "iopub.status.busy": "2023-07-21T00:17:39.209293Z",
     "iopub.status.idle": "2023-07-21T00:17:39.265877Z",
     "shell.execute_reply": "2023-07-21T00:17:39.265035Z",
     "shell.execute_reply.started": "2023-07-21T00:17:39.210608Z"
    },
    "tags": []
   },
   "outputs": [],
   "source": [
    "# Prepare predictions for our models\n",
    "pred_dt = np.load('./data/pred_dt.npy')\n",
    "pred_dl = np.load('./data/pred_dl.npy')\n",
    "pred_knn = np.load('./data/pred_knn.npy')\n",
    "pred_lr = np.load('./data/pred_lr.npy')\n",
    "pred_rf = np.load('./data/pred_rf.npy')\n",
    "pred_svm = np.load('./data/pred_svm.npy')\n",
    "pred_xgb = np.load('./data/pred_xgb.npy')\n"
   ]
  },
  {
   "cell_type": "markdown",
   "metadata": {},
   "source": [
    "## Create *models - predictions* Dictionaries"
   ]
  },
  {
   "cell_type": "markdown",
   "metadata": {},
   "source": [
    "We are going to create the dictionaries to map names of models to their predictions. <br> \n",
    "We will be using them later for plotting and displaying results of the models."
   ]
  },
  {
   "cell_type": "markdown",
   "metadata": {},
   "source": [
    "All models"
   ]
  },
  {
   "cell_type": "code",
   "execution_count": 6,
   "metadata": {
    "execution": {
     "iopub.execute_input": "2023-07-21T00:17:39.267116Z",
     "iopub.status.busy": "2023-07-21T00:17:39.266853Z",
     "iopub.status.idle": "2023-07-21T00:17:39.271683Z",
     "shell.execute_reply": "2023-07-21T00:17:39.270641Z",
     "shell.execute_reply.started": "2023-07-21T00:17:39.267096Z"
    },
    "tags": []
   },
   "outputs": [],
   "source": [
    "# Create models_pred dictionary, contains all 7 models\n",
    "models_pred = {\n",
    "    'Decision Tree' : pred_dt,\n",
    "    'Deep Learning' : pred_dl,\n",
    "    'K-nearest Neighbors' : pred_knn,\n",
    "    'Logistic Regression' : pred_lr,\n",
    "    'Random Forest' : pred_rf,\n",
    "    'SVM' : pred_svm,\n",
    "    'XGBoost' : pred_xgb\n",
    "}"
   ]
  },
  {
   "cell_type": "markdown",
   "metadata": {},
   "source": [
    "Two models only"
   ]
  },
  {
   "cell_type": "code",
   "execution_count": 7,
   "metadata": {
    "execution": {
     "iopub.execute_input": "2023-07-21T00:17:39.273727Z",
     "iopub.status.busy": "2023-07-21T00:17:39.272654Z",
     "iopub.status.idle": "2023-07-21T00:17:39.278672Z",
     "shell.execute_reply": "2023-07-21T00:17:39.277532Z",
     "shell.execute_reply.started": "2023-07-21T00:17:39.273685Z"
    },
    "tags": []
   },
   "outputs": [],
   "source": [
    "# Create models_pred_2 dictionary, contains 2 models\n",
    "models_pred_2 = {\n",
    "    'Decision Tree' : pred_dt,\n",
    "    'Random Forest' : pred_rf\n",
    "}"
   ]
  },
  {
   "cell_type": "markdown",
   "metadata": {},
   "source": [
    "## Names of Classes"
   ]
  },
  {
   "cell_type": "markdown",
   "metadata": {},
   "source": [
    "The `target_names` variable holds names of our classes. It will be used later for displaying evaluation results."
   ]
  },
  {
   "cell_type": "code",
   "execution_count": 8,
   "metadata": {
    "execution": {
     "iopub.execute_input": "2023-07-21T00:17:39.280835Z",
     "iopub.status.busy": "2023-07-21T00:17:39.280169Z",
     "iopub.status.idle": "2023-07-21T00:17:39.286034Z",
     "shell.execute_reply": "2023-07-21T00:17:39.285076Z",
     "shell.execute_reply.started": "2023-07-21T00:17:39.280696Z"
    },
    "tags": []
   },
   "outputs": [],
   "source": [
    "# Names of our classes\n",
    "target_names = ['Stays', 'Exits']"
   ]
  },
  {
   "cell_type": "markdown",
   "metadata": {},
   "source": [
    "# Confusion Matrix"
   ]
  },
  {
   "cell_type": "markdown",
   "metadata": {},
   "source": [
    "## Why Normalized Confusion Matrix?"
   ]
  },
  {
   "cell_type": "markdown",
   "metadata": {},
   "source": [
    "Most of real-life data is imbalanced, so using a confusion matrix without normalization might lead to improper conclusions.  \n",
    "In the rest of this notebook, we could see the prove of that.\n",
    "\n",
    "The simplest way to display a confusion matrix is as raw numbers in an array."
   ]
  },
  {
   "cell_type": "markdown",
   "metadata": {},
   "source": [
    "**Unnormalized Confusion Matrix**"
   ]
  },
  {
   "cell_type": "code",
   "execution_count": 9,
   "metadata": {
    "execution": {
     "iopub.execute_input": "2023-07-21T00:17:39.287174Z",
     "iopub.status.busy": "2023-07-21T00:17:39.286944Z",
     "iopub.status.idle": "2023-07-21T00:17:39.295298Z",
     "shell.execute_reply": "2023-07-21T00:17:39.294222Z",
     "shell.execute_reply.started": "2023-07-21T00:17:39.287155Z"
    },
    "tags": []
   },
   "outputs": [
    {
     "name": "stdout",
     "output_type": "stream",
     "text": [
      "[[1979  410]\n",
      " [ 198  413]]\n"
     ]
    }
   ],
   "source": [
    "# Confusion matrix\n",
    "cm = confusion_matrix(y_test, pred_dt)\n",
    "print(cm)"
   ]
  },
  {
   "cell_type": "markdown",
   "metadata": {},
   "source": [
    "**Normalized Confusion Matrix**\n",
    "\n",
    "Few points to know:\n",
    "1. to calculate normalized version, divide each row element by the sum of the entire row\n",
    "2. each row represents the total number of true (actual) values for each class label \n",
    "3. the normalized matrix will show % prediction of each class made by the model for that specific true (actual) label"
   ]
  },
  {
   "cell_type": "code",
   "execution_count": 10,
   "metadata": {
    "execution": {
     "iopub.execute_input": "2023-07-21T00:17:39.299347Z",
     "iopub.status.busy": "2023-07-21T00:17:39.298302Z",
     "iopub.status.idle": "2023-07-21T00:17:39.304738Z",
     "shell.execute_reply": "2023-07-21T00:17:39.303780Z",
     "shell.execute_reply.started": "2023-07-21T00:17:39.299311Z"
    },
    "tags": []
   },
   "outputs": [
    {
     "name": "stdout",
     "output_type": "stream",
     "text": [
      "[[0.83 0.17]\n",
      " [0.32 0.68]]\n"
     ]
    }
   ],
   "source": [
    "# Normalized confusion matrix\n",
    "cmn = np.around(cm / cm.sum(axis=1)[:, np.newaxis], 2)\n",
    "print(cmn)"
   ]
  },
  {
   "cell_type": "markdown",
   "metadata": {},
   "source": [
    "We can display both matrices by using 2 `print` commands, or using the separator argument like below:"
   ]
  },
  {
   "cell_type": "code",
   "execution_count": 11,
   "metadata": {
    "execution": {
     "iopub.execute_input": "2023-07-21T00:17:39.306560Z",
     "iopub.status.busy": "2023-07-21T00:17:39.306325Z",
     "iopub.status.idle": "2023-07-21T00:17:39.312133Z",
     "shell.execute_reply": "2023-07-21T00:17:39.311411Z",
     "shell.execute_reply.started": "2023-07-21T00:17:39.306541Z"
    },
    "tags": []
   },
   "outputs": [
    {
     "name": "stdout",
     "output_type": "stream",
     "text": [
      "[[1979  410]\n",
      " [ 198  413]]\n",
      "\n",
      "[[0.83 0.17]\n",
      " [0.32 0.68]]\n"
     ]
    }
   ],
   "source": [
    "# Normalized confusion matrix\n",
    "cmn = np.around(cm / cm.sum(axis=1)[:, np.newaxis], 2)\n",
    "print(cm, cmn, sep='\\n\\n')"
   ]
  },
  {
   "cell_type": "markdown",
   "metadata": {},
   "source": [
    "It does not look very appealing, and this is a binary class example.  \n",
    "Just imagine a multi-class classification. It would be really tough to interpret and draw conclusions from.\n",
    "\n",
    "I think we could do better."
   ]
  },
  {
   "cell_type": "markdown",
   "metadata": {
    "tags": []
   },
   "source": [
    "## Display Confusion Matrix Dataframes Side by Side - `cm_cr`"
   ]
  },
  {
   "cell_type": "markdown",
   "metadata": {},
   "source": [
    "We can display a confusion matrix as a dataframe, and display both, unnormalized and normalized, matrices side by side.  \n",
    "For that we will utilize `cm_cr` function.  \n",
    "We can also decide if want to print classification report.\n",
    "\n",
    "\n",
    "**REQUIREMENTS:**\n",
    "- pandas.Styler requires jinja2, use conda or pip to install it\n",
    "- Pandas 1.3.0+ for `precision` in [Styler.format](https://pandas.pydata.org/docs/reference/api/pandas.io.formats.style.Styler.format.html)"
   ]
  },
  {
   "cell_type": "markdown",
   "metadata": {},
   "source": [
    "To call this function:  \n",
    "`mu.cm_cr(model_name, y_test, y_pred, target_names, cr=True)`\n",
    "\n",
    "<pre>Args:\n",
    "        model_name: name of the model\n",
    "        y_test: test target variable\n",
    "        y_pred: prediction\n",
    "        target_names: list of class names\n",
    "        cr: print classification report if True - default\n",
    "\n",
    "Returns:\n",
    "        Display confusion matrix dataframes side by side\n",
    "        and classification report if selected (default)</pre>"
   ]
  },
  {
   "cell_type": "markdown",
   "metadata": {
    "execution": {
     "iopub.execute_input": "2023-03-29T15:52:01.153043Z",
     "iopub.status.busy": "2023-03-29T15:52:01.152203Z",
     "iopub.status.idle": "2023-03-29T15:52:01.161156Z",
     "shell.execute_reply": "2023-03-29T15:52:01.159592Z",
     "shell.execute_reply.started": "2023-03-29T15:52:01.152987Z"
    }
   },
   "source": [
    "### One Model"
   ]
  },
  {
   "cell_type": "markdown",
   "metadata": {},
   "source": [
    "#### Confusion Matrices Only"
   ]
  },
  {
   "cell_type": "markdown",
   "metadata": {},
   "source": [
    "To display confusion matrices only, we will use `cr=False`"
   ]
  },
  {
   "cell_type": "code",
   "execution_count": 12,
   "metadata": {
    "execution": {
     "iopub.execute_input": "2023-07-21T00:17:39.313363Z",
     "iopub.status.busy": "2023-07-21T00:17:39.313134Z",
     "iopub.status.idle": "2023-07-21T00:17:39.386142Z",
     "shell.execute_reply": "2023-07-21T00:17:39.384976Z",
     "shell.execute_reply.started": "2023-07-21T00:17:39.313345Z"
    },
    "tags": []
   },
   "outputs": [
    {
     "name": "stdout",
     "output_type": "stream",
     "text": [
      "                       Random Forest\n",
      "                       =============\n"
     ]
    },
    {
     "data": {
      "text/html": [
       "  <style type=\"text/css\">\n",
       "</style>\n",
       "<table id=\"T_c5eca\" style='display:inline'>\n",
       "  <caption>Confusion Matrix</caption>\n",
       "  <thead>\n",
       "    <tr>\n",
       "      <th class=\"index_name level0\" >PREDICTED</th>\n",
       "      <th id=\"T_c5eca_level0_col0\" class=\"col_heading level0 col0\" >Stays</th>\n",
       "      <th id=\"T_c5eca_level0_col1\" class=\"col_heading level0 col1\" >Exits</th>\n",
       "    </tr>\n",
       "    <tr>\n",
       "      <th class=\"index_name level0\" >ACTUAL</th>\n",
       "      <th class=\"blank col0\" >&nbsp;</th>\n",
       "      <th class=\"blank col1\" >&nbsp;</th>\n",
       "    </tr>\n",
       "  </thead>\n",
       "  <tbody>\n",
       "    <tr>\n",
       "      <th id=\"T_c5eca_level0_row0\" class=\"row_heading level0 row0\" >Stays</th>\n",
       "      <td id=\"T_c5eca_row0_col0\" class=\"data row0 col0\" >2137</td>\n",
       "      <td id=\"T_c5eca_row0_col1\" class=\"data row0 col1\" >252</td>\n",
       "    </tr>\n",
       "    <tr>\n",
       "      <th id=\"T_c5eca_level0_row1\" class=\"row_heading level0 row1\" >Exits</th>\n",
       "      <td id=\"T_c5eca_row1_col0\" class=\"data row1 col0\" >233</td>\n",
       "      <td id=\"T_c5eca_row1_col1\" class=\"data row1 col1\" >378</td>\n",
       "    </tr>\n",
       "  </tbody>\n",
       "</table>\n",
       "               <style type=\"text/css\">\n",
       "</style>\n",
       "<table id=\"T_9c7d3\" style='display:inline'>\n",
       "  <caption>Normalized Confusion Matrix</caption>\n",
       "  <thead>\n",
       "    <tr>\n",
       "      <th class=\"index_name level0\" >PREDICTED</th>\n",
       "      <th id=\"T_9c7d3_level0_col0\" class=\"col_heading level0 col0\" >Stays</th>\n",
       "      <th id=\"T_9c7d3_level0_col1\" class=\"col_heading level0 col1\" >Exits</th>\n",
       "    </tr>\n",
       "    <tr>\n",
       "      <th class=\"index_name level0\" >ACTUAL</th>\n",
       "      <th class=\"blank col0\" >&nbsp;</th>\n",
       "      <th class=\"blank col1\" >&nbsp;</th>\n",
       "    </tr>\n",
       "  </thead>\n",
       "  <tbody>\n",
       "    <tr>\n",
       "      <th id=\"T_9c7d3_level0_row0\" class=\"row_heading level0 row0\" >Stays</th>\n",
       "      <td id=\"T_9c7d3_row0_col0\" class=\"data row0 col0\" >0.89</td>\n",
       "      <td id=\"T_9c7d3_row0_col1\" class=\"data row0 col1\" >0.11</td>\n",
       "    </tr>\n",
       "    <tr>\n",
       "      <th id=\"T_9c7d3_level0_row1\" class=\"row_heading level0 row1\" >Exits</th>\n",
       "      <td id=\"T_9c7d3_row1_col0\" class=\"data row1 col0\" >0.38</td>\n",
       "      <td id=\"T_9c7d3_row1_col1\" class=\"data row1 col1\" >0.62</td>\n",
       "    </tr>\n",
       "  </tbody>\n",
       "</table>\n"
      ]
     },
     "metadata": {},
     "output_type": "display_data"
    },
    {
     "name": "stdout",
     "output_type": "stream",
     "text": [
      "\n"
     ]
    }
   ],
   "source": [
    "mu.cm_cr('Random Forest', y_test, pred_rf, target_names, cr=False)"
   ]
  },
  {
   "cell_type": "markdown",
   "metadata": {},
   "source": [
    "#### Confusion Matrix and Classification Report"
   ]
  },
  {
   "cell_type": "markdown",
   "metadata": {},
   "source": [
    "If we do not enter the value for `cr` or we enter `cr=True`, classification report will be printed."
   ]
  },
  {
   "cell_type": "code",
   "execution_count": 13,
   "metadata": {
    "execution": {
     "iopub.execute_input": "2023-07-21T00:17:39.387395Z",
     "iopub.status.busy": "2023-07-21T00:17:39.387072Z",
     "iopub.status.idle": "2023-07-21T00:17:39.410948Z",
     "shell.execute_reply": "2023-07-21T00:17:39.410090Z",
     "shell.execute_reply.started": "2023-07-21T00:17:39.387373Z"
    },
    "tags": []
   },
   "outputs": [
    {
     "name": "stdout",
     "output_type": "stream",
     "text": [
      "                       Random Forest\n",
      "                       =============\n"
     ]
    },
    {
     "data": {
      "text/html": [
       "  <style type=\"text/css\">\n",
       "</style>\n",
       "<table id=\"T_b955d\" style='display:inline'>\n",
       "  <caption>Confusion Matrix</caption>\n",
       "  <thead>\n",
       "    <tr>\n",
       "      <th class=\"index_name level0\" >PREDICTED</th>\n",
       "      <th id=\"T_b955d_level0_col0\" class=\"col_heading level0 col0\" >Stays</th>\n",
       "      <th id=\"T_b955d_level0_col1\" class=\"col_heading level0 col1\" >Exits</th>\n",
       "    </tr>\n",
       "    <tr>\n",
       "      <th class=\"index_name level0\" >ACTUAL</th>\n",
       "      <th class=\"blank col0\" >&nbsp;</th>\n",
       "      <th class=\"blank col1\" >&nbsp;</th>\n",
       "    </tr>\n",
       "  </thead>\n",
       "  <tbody>\n",
       "    <tr>\n",
       "      <th id=\"T_b955d_level0_row0\" class=\"row_heading level0 row0\" >Stays</th>\n",
       "      <td id=\"T_b955d_row0_col0\" class=\"data row0 col0\" >2137</td>\n",
       "      <td id=\"T_b955d_row0_col1\" class=\"data row0 col1\" >252</td>\n",
       "    </tr>\n",
       "    <tr>\n",
       "      <th id=\"T_b955d_level0_row1\" class=\"row_heading level0 row1\" >Exits</th>\n",
       "      <td id=\"T_b955d_row1_col0\" class=\"data row1 col0\" >233</td>\n",
       "      <td id=\"T_b955d_row1_col1\" class=\"data row1 col1\" >378</td>\n",
       "    </tr>\n",
       "  </tbody>\n",
       "</table>\n",
       "               <style type=\"text/css\">\n",
       "</style>\n",
       "<table id=\"T_4756a\" style='display:inline'>\n",
       "  <caption>Normalized Confusion Matrix</caption>\n",
       "  <thead>\n",
       "    <tr>\n",
       "      <th class=\"index_name level0\" >PREDICTED</th>\n",
       "      <th id=\"T_4756a_level0_col0\" class=\"col_heading level0 col0\" >Stays</th>\n",
       "      <th id=\"T_4756a_level0_col1\" class=\"col_heading level0 col1\" >Exits</th>\n",
       "    </tr>\n",
       "    <tr>\n",
       "      <th class=\"index_name level0\" >ACTUAL</th>\n",
       "      <th class=\"blank col0\" >&nbsp;</th>\n",
       "      <th class=\"blank col1\" >&nbsp;</th>\n",
       "    </tr>\n",
       "  </thead>\n",
       "  <tbody>\n",
       "    <tr>\n",
       "      <th id=\"T_4756a_level0_row0\" class=\"row_heading level0 row0\" >Stays</th>\n",
       "      <td id=\"T_4756a_row0_col0\" class=\"data row0 col0\" >0.89</td>\n",
       "      <td id=\"T_4756a_row0_col1\" class=\"data row0 col1\" >0.11</td>\n",
       "    </tr>\n",
       "    <tr>\n",
       "      <th id=\"T_4756a_level0_row1\" class=\"row_heading level0 row1\" >Exits</th>\n",
       "      <td id=\"T_4756a_row1_col0\" class=\"data row1 col0\" >0.38</td>\n",
       "      <td id=\"T_4756a_row1_col1\" class=\"data row1 col1\" >0.62</td>\n",
       "    </tr>\n",
       "  </tbody>\n",
       "</table>\n"
      ]
     },
     "metadata": {},
     "output_type": "display_data"
    },
    {
     "name": "stdout",
     "output_type": "stream",
     "text": [
      "\n",
      "              precision    recall  f1-score   support\n",
      "\n",
      "       Stays       0.90      0.89      0.90      2389\n",
      "       Exits       0.60      0.62      0.61       611\n",
      "\n",
      "    accuracy                           0.84      3000\n",
      "   macro avg       0.75      0.76      0.75      3000\n",
      "weighted avg       0.84      0.84      0.84      3000\n",
      "\n",
      "\n"
     ]
    }
   ],
   "source": [
    "mu.cm_cr('Random Forest', y_test, pred_rf, target_names)"
   ]
  },
  {
   "cell_type": "markdown",
   "metadata": {
    "execution": {
     "iopub.status.busy": "2023-03-29T15:52:01.162456Z",
     "iopub.status.idle": "2023-03-29T15:52:01.162749Z",
     "shell.execute_reply": "2023-03-29T15:52:01.162635Z",
     "shell.execute_reply.started": "2023-03-29T15:52:01.162621Z"
    }
   },
   "source": [
    "### Multiple Models"
   ]
  },
  {
   "cell_type": "markdown",
   "metadata": {},
   "source": [
    "We can create a dictionary to map model's names to their predictions.  \n",
    "Running the function `cm_cr` in each iteration, will print confusion matrices and classification report (if `cm=True`) for all models."
   ]
  },
  {
   "cell_type": "code",
   "execution_count": 14,
   "metadata": {
    "execution": {
     "iopub.execute_input": "2023-07-21T00:17:39.411891Z",
     "iopub.status.busy": "2023-07-21T00:17:39.411656Z",
     "iopub.status.idle": "2023-07-21T00:17:39.443310Z",
     "shell.execute_reply": "2023-07-21T00:17:39.442327Z",
     "shell.execute_reply.started": "2023-07-21T00:17:39.411869Z"
    },
    "scrolled": true,
    "tags": []
   },
   "outputs": [
    {
     "name": "stdout",
     "output_type": "stream",
     "text": [
      "                       Decision Tree\n",
      "                       =============\n"
     ]
    },
    {
     "data": {
      "text/html": [
       "  <style type=\"text/css\">\n",
       "</style>\n",
       "<table id=\"T_3b10e\" style='display:inline'>\n",
       "  <caption>Confusion Matrix</caption>\n",
       "  <thead>\n",
       "    <tr>\n",
       "      <th class=\"index_name level0\" >PREDICTED</th>\n",
       "      <th id=\"T_3b10e_level0_col0\" class=\"col_heading level0 col0\" >Stays</th>\n",
       "      <th id=\"T_3b10e_level0_col1\" class=\"col_heading level0 col1\" >Exits</th>\n",
       "    </tr>\n",
       "    <tr>\n",
       "      <th class=\"index_name level0\" >ACTUAL</th>\n",
       "      <th class=\"blank col0\" >&nbsp;</th>\n",
       "      <th class=\"blank col1\" >&nbsp;</th>\n",
       "    </tr>\n",
       "  </thead>\n",
       "  <tbody>\n",
       "    <tr>\n",
       "      <th id=\"T_3b10e_level0_row0\" class=\"row_heading level0 row0\" >Stays</th>\n",
       "      <td id=\"T_3b10e_row0_col0\" class=\"data row0 col0\" >1979</td>\n",
       "      <td id=\"T_3b10e_row0_col1\" class=\"data row0 col1\" >410</td>\n",
       "    </tr>\n",
       "    <tr>\n",
       "      <th id=\"T_3b10e_level0_row1\" class=\"row_heading level0 row1\" >Exits</th>\n",
       "      <td id=\"T_3b10e_row1_col0\" class=\"data row1 col0\" >198</td>\n",
       "      <td id=\"T_3b10e_row1_col1\" class=\"data row1 col1\" >413</td>\n",
       "    </tr>\n",
       "  </tbody>\n",
       "</table>\n",
       "               <style type=\"text/css\">\n",
       "</style>\n",
       "<table id=\"T_ac55d\" style='display:inline'>\n",
       "  <caption>Normalized Confusion Matrix</caption>\n",
       "  <thead>\n",
       "    <tr>\n",
       "      <th class=\"index_name level0\" >PREDICTED</th>\n",
       "      <th id=\"T_ac55d_level0_col0\" class=\"col_heading level0 col0\" >Stays</th>\n",
       "      <th id=\"T_ac55d_level0_col1\" class=\"col_heading level0 col1\" >Exits</th>\n",
       "    </tr>\n",
       "    <tr>\n",
       "      <th class=\"index_name level0\" >ACTUAL</th>\n",
       "      <th class=\"blank col0\" >&nbsp;</th>\n",
       "      <th class=\"blank col1\" >&nbsp;</th>\n",
       "    </tr>\n",
       "  </thead>\n",
       "  <tbody>\n",
       "    <tr>\n",
       "      <th id=\"T_ac55d_level0_row0\" class=\"row_heading level0 row0\" >Stays</th>\n",
       "      <td id=\"T_ac55d_row0_col0\" class=\"data row0 col0\" >0.83</td>\n",
       "      <td id=\"T_ac55d_row0_col1\" class=\"data row0 col1\" >0.17</td>\n",
       "    </tr>\n",
       "    <tr>\n",
       "      <th id=\"T_ac55d_level0_row1\" class=\"row_heading level0 row1\" >Exits</th>\n",
       "      <td id=\"T_ac55d_row1_col0\" class=\"data row1 col0\" >0.32</td>\n",
       "      <td id=\"T_ac55d_row1_col1\" class=\"data row1 col1\" >0.68</td>\n",
       "    </tr>\n",
       "  </tbody>\n",
       "</table>\n"
      ]
     },
     "metadata": {},
     "output_type": "display_data"
    },
    {
     "name": "stdout",
     "output_type": "stream",
     "text": [
      "\n",
      "              precision    recall  f1-score   support\n",
      "\n",
      "       Stays       0.91      0.83      0.87      2389\n",
      "       Exits       0.50      0.68      0.58       611\n",
      "\n",
      "    accuracy                           0.80      3000\n",
      "   macro avg       0.71      0.75      0.72      3000\n",
      "weighted avg       0.83      0.80      0.81      3000\n",
      "\n",
      "\n",
      "                       Random Forest\n",
      "                       =============\n"
     ]
    },
    {
     "data": {
      "text/html": [
       "  <style type=\"text/css\">\n",
       "</style>\n",
       "<table id=\"T_d0b59\" style='display:inline'>\n",
       "  <caption>Confusion Matrix</caption>\n",
       "  <thead>\n",
       "    <tr>\n",
       "      <th class=\"index_name level0\" >PREDICTED</th>\n",
       "      <th id=\"T_d0b59_level0_col0\" class=\"col_heading level0 col0\" >Stays</th>\n",
       "      <th id=\"T_d0b59_level0_col1\" class=\"col_heading level0 col1\" >Exits</th>\n",
       "    </tr>\n",
       "    <tr>\n",
       "      <th class=\"index_name level0\" >ACTUAL</th>\n",
       "      <th class=\"blank col0\" >&nbsp;</th>\n",
       "      <th class=\"blank col1\" >&nbsp;</th>\n",
       "    </tr>\n",
       "  </thead>\n",
       "  <tbody>\n",
       "    <tr>\n",
       "      <th id=\"T_d0b59_level0_row0\" class=\"row_heading level0 row0\" >Stays</th>\n",
       "      <td id=\"T_d0b59_row0_col0\" class=\"data row0 col0\" >2137</td>\n",
       "      <td id=\"T_d0b59_row0_col1\" class=\"data row0 col1\" >252</td>\n",
       "    </tr>\n",
       "    <tr>\n",
       "      <th id=\"T_d0b59_level0_row1\" class=\"row_heading level0 row1\" >Exits</th>\n",
       "      <td id=\"T_d0b59_row1_col0\" class=\"data row1 col0\" >233</td>\n",
       "      <td id=\"T_d0b59_row1_col1\" class=\"data row1 col1\" >378</td>\n",
       "    </tr>\n",
       "  </tbody>\n",
       "</table>\n",
       "               <style type=\"text/css\">\n",
       "</style>\n",
       "<table id=\"T_538e2\" style='display:inline'>\n",
       "  <caption>Normalized Confusion Matrix</caption>\n",
       "  <thead>\n",
       "    <tr>\n",
       "      <th class=\"index_name level0\" >PREDICTED</th>\n",
       "      <th id=\"T_538e2_level0_col0\" class=\"col_heading level0 col0\" >Stays</th>\n",
       "      <th id=\"T_538e2_level0_col1\" class=\"col_heading level0 col1\" >Exits</th>\n",
       "    </tr>\n",
       "    <tr>\n",
       "      <th class=\"index_name level0\" >ACTUAL</th>\n",
       "      <th class=\"blank col0\" >&nbsp;</th>\n",
       "      <th class=\"blank col1\" >&nbsp;</th>\n",
       "    </tr>\n",
       "  </thead>\n",
       "  <tbody>\n",
       "    <tr>\n",
       "      <th id=\"T_538e2_level0_row0\" class=\"row_heading level0 row0\" >Stays</th>\n",
       "      <td id=\"T_538e2_row0_col0\" class=\"data row0 col0\" >0.89</td>\n",
       "      <td id=\"T_538e2_row0_col1\" class=\"data row0 col1\" >0.11</td>\n",
       "    </tr>\n",
       "    <tr>\n",
       "      <th id=\"T_538e2_level0_row1\" class=\"row_heading level0 row1\" >Exits</th>\n",
       "      <td id=\"T_538e2_row1_col0\" class=\"data row1 col0\" >0.38</td>\n",
       "      <td id=\"T_538e2_row1_col1\" class=\"data row1 col1\" >0.62</td>\n",
       "    </tr>\n",
       "  </tbody>\n",
       "</table>\n"
      ]
     },
     "metadata": {},
     "output_type": "display_data"
    },
    {
     "name": "stdout",
     "output_type": "stream",
     "text": [
      "\n",
      "              precision    recall  f1-score   support\n",
      "\n",
      "       Stays       0.90      0.89      0.90      2389\n",
      "       Exits       0.60      0.62      0.61       611\n",
      "\n",
      "    accuracy                           0.84      3000\n",
      "   macro avg       0.75      0.76      0.75      3000\n",
      "weighted avg       0.84      0.84      0.84      3000\n",
      "\n",
      "\n"
     ]
    }
   ],
   "source": [
    "# Display classification report and confusion matrix for multiple models \n",
    "#  models_pred_2 dictionary\n",
    "for model, pred in models_pred_2.items():\n",
    "    mu.cm_cr(model, y_test, pred, target_names)"
   ]
  },
  {
   "cell_type": "markdown",
   "metadata": {},
   "source": [
    "## Plot Confusion Matrix Heatmaps for One Model - `plot_cm`"
   ]
  },
  {
   "cell_type": "markdown",
   "metadata": {},
   "source": [
    "Let's use Seaborn `heatmap` to plot a confusion matrix for one model.  \n",
    "The helper function `plot_cm` will help us with that."
   ]
  },
  {
   "cell_type": "markdown",
   "metadata": {},
   "source": [
    "To call this function:  \n",
    "`mu.plot_cm(model_name, y_test, y_pred, target_names, color, norm=True)`\n",
    "\n",
    "<pre>Args:\n",
    "        model_name: name of the model\n",
    "        y_test: test target variable\n",
    "        y_pred: prediction\n",
    "        target_names: list of class names\n",
    "        color: color palette\n",
    "        norm: plot normalized matrix if True - default \n",
    "              plot unnormalized matrix if False\n",
    "\n",
    "    Returns:\n",
    "        Plot one model's confusion matrix,\n",
    "         normalized (default) or unnormalized</pre>"
   ]
  },
  {
   "cell_type": "markdown",
   "metadata": {},
   "source": [
    "### Unnormalized Matrix"
   ]
  },
  {
   "cell_type": "code",
   "execution_count": 15,
   "metadata": {
    "execution": {
     "iopub.execute_input": "2023-07-21T00:17:39.445291Z",
     "iopub.status.busy": "2023-07-21T00:17:39.444581Z",
     "iopub.status.idle": "2023-07-21T00:17:39.659172Z",
     "shell.execute_reply": "2023-07-21T00:17:39.658140Z",
     "shell.execute_reply.started": "2023-07-21T00:17:39.445248Z"
    },
    "tags": []
   },
   "outputs": [
    {
     "data": {
      "image/png": "[encoded data removed]",
      "text/plain": [
       "<Figure size 432x288 with 2 Axes>"
      ]
     },
     "metadata": {},
     "output_type": "display_data"
    }
   ],
   "source": [
    "mu.plot_cm('XGBoost', y_test, pred_xgb, target_names, \"Blues\", norm=False)"
   ]
  },
  {
   "cell_type": "markdown",
   "metadata": {},
   "source": [
    "### Normalized Matrix"
   ]
  },
  {
   "cell_type": "code",
   "execution_count": 16,
   "metadata": {
    "execution": {
     "iopub.execute_input": "2023-07-21T00:17:39.661207Z",
     "iopub.status.busy": "2023-07-21T00:17:39.660948Z",
     "iopub.status.idle": "2023-07-21T00:17:39.829158Z",
     "shell.execute_reply": "2023-07-21T00:17:39.828455Z",
     "shell.execute_reply.started": "2023-07-21T00:17:39.661187Z"
    },
    "tags": []
   },
   "outputs": [
    {
     "data": {
      "image/png": "[encoded data removed]",
      "text/plain": [
       "<Figure size 432x288 with 2 Axes>"
      ]
     },
     "metadata": {},
     "output_type": "display_data"
    }
   ],
   "source": [
    "mu.plot_cm('XGBoost', y_test, pred_xgb, target_names, \"Blues\", norm=True)"
   ]
  },
  {
   "cell_type": "markdown",
   "metadata": {},
   "source": [
    "## Unnormalized and Normalized Confusion Matrix Heatmaps Side by Side - `plot_cm_unnorm_and_norm`"
   ]
  },
  {
   "cell_type": "markdown",
   "metadata": {},
   "source": [
    "We can utilize the function `plot_cm_unnorm_and_norm` to plot those two matrices from previous two cells, side by side."
   ]
  },
  {
   "cell_type": "markdown",
   "metadata": {},
   "source": [
    "To run this function:  \n",
    "`mu.plot_cm_unnorm_and_norm(model_name, y_test, y_pred, target_names, color)`\n",
    "\n",
    "<pre>Args:\n",
    "        model_name: name of the model\n",
    "        y_test: test target variable\n",
    "        y_pred: prediction\n",
    "        target_names: list of class names\n",
    "        color: color palette\n",
    "\n",
    "    Returns:\n",
    "        Plot one model's confusion matrix heatmaps side by side\n",
    "        left unnormalized and right normalized</pre>"
   ]
  },
  {
   "cell_type": "code",
   "execution_count": 17,
   "metadata": {
    "execution": {
     "iopub.execute_input": "2023-07-21T00:17:39.830131Z",
     "iopub.status.busy": "2023-07-21T00:17:39.829903Z",
     "iopub.status.idle": "2023-07-21T00:17:40.229550Z",
     "shell.execute_reply": "2023-07-21T00:17:40.228680Z",
     "shell.execute_reply.started": "2023-07-21T00:17:39.830112Z"
    },
    "tags": []
   },
   "outputs": [
    {
     "data": {
      "image/png": "[encoded data removed]",
      "text/plain": [
       "<Figure size 864x288 with 4 Axes>"
      ]
     },
     "metadata": {},
     "output_type": "display_data"
    }
   ],
   "source": [
    "# Plot confusion matrix and its normalized version.\n",
    "mu.plot_cm_unnorm_and_norm('XGBoost', y_test, pred_xgb, target_names, 'Reds')"
   ]
  },
  {
   "cell_type": "markdown",
   "metadata": {},
   "source": [
    "## Confusion Matrix Heatmaps for Multiple Models - `plot_conf_matrices`"
   ]
  },
  {
   "cell_type": "markdown",
   "metadata": {},
   "source": [
    "To compare confusion matrices for all our models in one plot, we can utilize the function `plot_conf_matrices`."
   ]
  },
  {
   "cell_type": "markdown",
   "metadata": {},
   "source": [
    "To run this function:     \n",
    "`mu.plot_conf_matrices(models_pred, y_test, target_names, color, norm=True)`\n",
    "\n",
    "<pre>Args:\n",
    "    models_pred: dictionary with model names as keys and predictions as values \n",
    "    y_test: test target variable\n",
    "    target_names: list of class names\n",
    "    color: color palette\n",
    "    norm: plot normalized matrices if True - default \n",
    "          plot unnormalized matrices if False\n",
    "\n",
    "Returns:\n",
    "    Plot all model's confusion matrix heatmaps, in 2 columns,\n",
    "    normalized (default) or unnormalized<pre>"
   ]
  },
  {
   "cell_type": "markdown",
   "metadata": {
    "tags": []
   },
   "source": [
    "### Two Models - Normalized Connfusion Matrices"
   ]
  },
  {
   "cell_type": "code",
   "execution_count": 18,
   "metadata": {
    "execution": {
     "iopub.execute_input": "2023-07-21T00:17:40.231800Z",
     "iopub.status.busy": "2023-07-21T00:17:40.231541Z",
     "iopub.status.idle": "2023-07-21T00:17:40.465235Z",
     "shell.execute_reply": "2023-07-21T00:17:40.464364Z",
     "shell.execute_reply.started": "2023-07-21T00:17:40.231782Z"
    },
    "tags": []
   },
   "outputs": [
    {
     "data": {
      "image/png": "[encoded data removed]",
      "text/plain": [
       "<Figure size 720x288 with 2 Axes>"
      ]
     },
     "metadata": {},
     "output_type": "display_data"
    }
   ],
   "source": [
    "# Plot all confusion matrices \n",
    "mu.plot_conf_matrices(models_pred_2, y_test, target_names, 'Reds')"
   ]
  },
  {
   "cell_type": "code",
   "execution_count": null,
   "metadata": {},
   "outputs": [],
   "source": []
  },
  {
   "cell_type": "markdown",
   "metadata": {
    "tags": []
   },
   "source": [
    "### Two Models - Unnormalized Confusion Matrices"
   ]
  },
  {
   "cell_type": "code",
   "execution_count": 19,
   "metadata": {
    "execution": {
     "iopub.execute_input": "2023-07-21T00:17:40.466322Z",
     "iopub.status.busy": "2023-07-21T00:17:40.466084Z",
     "iopub.status.idle": "2023-07-21T00:17:40.708844Z",
     "shell.execute_reply": "2023-07-21T00:17:40.707787Z",
     "shell.execute_reply.started": "2023-07-21T00:17:40.466303Z"
    },
    "tags": []
   },
   "outputs": [
    {
     "data": {
      "image/png": "[encoded data removed]",
      "text/plain": [
       "<Figure size 720x288 with 2 Axes>"
      ]
     },
     "metadata": {},
     "output_type": "display_data"
    }
   ],
   "source": [
    "# Plot all confusion matrices \n",
    "mu.plot_conf_matrices(models_pred_2, y_test, target_names, 'Reds', norm=False)"
   ]
  },
  {
   "cell_type": "markdown",
   "metadata": {
    "tags": []
   },
   "source": [
    "### All Models"
   ]
  },
  {
   "cell_type": "markdown",
   "metadata": {},
   "source": [
    "And finally, let's plot confusion matrices for all models."
   ]
  },
  {
   "cell_type": "code",
   "execution_count": 20,
   "metadata": {
    "execution": {
     "iopub.execute_input": "2023-07-21T00:17:40.710057Z",
     "iopub.status.busy": "2023-07-21T00:17:40.709807Z",
     "iopub.status.idle": "2023-07-21T00:17:42.263152Z",
     "shell.execute_reply": "2023-07-21T00:17:42.261890Z",
     "shell.execute_reply.started": "2023-07-21T00:17:40.710038Z"
    },
    "tags": []
   },
   "outputs": [
    {
     "data": {
      "image/png": "[encoded data removed]",
      "text/plain": [
       "<Figure size 720x1152 with 7 Axes>"
      ]
     },
     "metadata": {},
     "output_type": "display_data"
    }
   ],
   "source": [
    "# Plot all confusion matrices \n",
    "mu.plot_conf_matrices(models_pred, y_test, target_names, 'Reds')"
   ]
  },
  {
   "cell_type": "markdown",
   "metadata": {},
   "source": [
    "<br>  \n",
    "\n",
    "**NOTE 1:**  \n",
    "\n",
    "- in matplotlib >3.5.2 `dpi` default value was changed from 72 to 100\n",
    "- deafult `figsize` was also changed: 6.0, 4.0 &rarr; 6.4, 4.8\n",
    "- in our functions we used `dpi=72` and `figsize=(6.0, 4.0)` to make plots smaller \n",
    "\n",
    "**NOTE 2:**  \n",
    "- the examples in this notebook are for binary classification\n",
    "- for multi-class classification, with many classes, some adjusstments might be needed in helper functions\n",
    "- increasing `dpi` above 72 might be sufficient"
   ]
  },
  {
   "cell_type": "markdown",
   "metadata": {},
   "source": [
    "## Sankey Diagram"
   ]
  },
  {
   "cell_type": "markdown",
   "metadata": {},
   "source": [
    "To dispiay a confusion matrix on an interactive and more elgant way, we will use **Sankey diagram**. \n",
    "By hovering over the diagram we can easily interpret the number of samples for each class (nodes) and how they were classified (links).  \n",
    "We will also include values from normalized confusion matrix, and by hovering over the links they will be displayed as percentages, for example:  \n",
    "\n",
    "<pre>413 (68%) <b>Exits</b> samples correctly classified as <b>Exits</b></pre>\n",
    "\n",
    "The notebook [Confusion Matrix as Sankey Diagram](Confusion%20Matrix%20as%20Sankey%20Diagram.ipynb) describes step-by-step creation of the below function `plot_cm_sankey`."
   ]
  },
  {
   "cell_type": "markdown",
   "metadata": {},
   "source": [
    "To run this function:     \n",
    "`mu.plot_cm_sankey(model_name, y_test, y_pred, target_names=None)`\n",
    "\n",
    "<pre>Args:\n",
    "    model_name: name of the model\n",
    "    y_test: test target variable\n",
    "    y_pred: prediction\n",
    "    target_names: list of class names\n",
    "\n",
    "Returns:\n",
    "    Plot Sankey diagram of confusion matrix</pre>\n",
    " "
   ]
  },
  {
   "cell_type": "code",
   "execution_count": 21,
   "metadata": {
    "execution": {
     "iopub.execute_input": "2023-07-21T00:17:42.265174Z",
     "iopub.status.busy": "2023-07-21T00:17:42.264758Z",
     "iopub.status.idle": "2023-07-21T00:17:42.340522Z",
     "shell.execute_reply": "2023-07-21T00:17:42.339549Z",
     "shell.execute_reply.started": "2023-07-21T00:17:42.265152Z"
    },
    "tags": []
   },
   "outputs": [
    {
     "data": {
      "text/html": [
       "<iframe\n",
       "    scrolling=\"no\"\n",
       "    width=\"645px\"\n",
       "    height=\"520\"\n",
       "    src=\"iframe_figures_n2/figure_21.html\"\n",
       "    frameborder=\"0\"\n",
       "    allowfullscreen\n",
       "></iframe>\n"
      ]
     },
     "metadata": {},
     "output_type": "display_data"
    }
   ],
   "source": [
    "mu.plot_cm_sankey('Decision Tree', y_test, pred_dt, target_names)"
   ]
  },
  {
   "cell_type": "markdown",
   "metadata": {},
   "source": [
    "### How to interprete our Sankey confusion matrix?"
   ]
  },
  {
   "cell_type": "markdown",
   "metadata": {},
   "source": [
    "- source nodes (ACTUAL ...) are on the left and target nodes (PREDICTED ...) on the right\n",
    "- the size of nodes is proportional to the number of samples that belongs to each node\n",
    "- the width of the links between nodes is proportional to the flow (result of classification), ie. the number of samples classified correctly (green) or incorrectly (red)\n",
    "- hovering over the nodes and links will display numerical and textual representation of our confusion matrix"
   ]
  },
  {
   "cell_type": "markdown",
   "metadata": {},
   "source": [
    "### 3x3 Confusion Matrix"
   ]
  },
  {
   "cell_type": "markdown",
   "metadata": {},
   "source": [
    "Let's see how this works for an 3x3 confusion matrix.\n",
    "\n",
    "We will use data from my project [T2D-Predictions](https://github.com/zunicd/T2D-Predictions)."
   ]
  },
  {
   "cell_type": "code",
   "execution_count": 22,
   "metadata": {
    "execution": {
     "iopub.execute_input": "2023-07-21T00:17:42.341596Z",
     "iopub.status.busy": "2023-07-21T00:17:42.341406Z",
     "iopub.status.idle": "2023-07-21T00:17:42.358057Z",
     "shell.execute_reply": "2023-07-21T00:17:42.357243Z",
     "shell.execute_reply.started": "2023-07-21T00:17:42.341578Z"
    },
    "tags": []
   },
   "outputs": [],
   "source": [
    "# Actual (True) labels\n",
    "t2d_y_test = np.load('./data/t2d_y_test.npy')\n",
    "# Prediction from random forest model\n",
    "t2d_pred_rf = np.load('./data/t2d_pred_rf.npy')\n",
    "# Classes\n",
    "t2d_classes = ['no_diabetes', 'pre_diabetes', 'diabetes']"
   ]
  },
  {
   "cell_type": "code",
   "execution_count": 23,
   "metadata": {
    "execution": {
     "iopub.execute_input": "2023-07-21T00:17:42.359110Z",
     "iopub.status.busy": "2023-07-21T00:17:42.358924Z",
     "iopub.status.idle": "2023-07-21T00:17:42.426568Z",
     "shell.execute_reply": "2023-07-21T00:17:42.425351Z",
     "shell.execute_reply.started": "2023-07-21T00:17:42.359093Z"
    },
    "tags": []
   },
   "outputs": [
    {
     "data": {
      "text/html": [
       "<iframe\n",
       "    scrolling=\"no\"\n",
       "    width=\"645px\"\n",
       "    height=\"520\"\n",
       "    src=\"iframe_figures_n2/figure_23.html\"\n",
       "    frameborder=\"0\"\n",
       "    allowfullscreen\n",
       "></iframe>\n"
      ]
     },
     "metadata": {},
     "output_type": "display_data"
    }
   ],
   "source": [
    "mu.plot_cm_sankey('Random Forest', t2d_y_test, t2d_pred_rf, t2d_classes)"
   ]
  },
  {
   "cell_type": "markdown",
   "metadata": {},
   "source": [
    "Hover over the diagram to get more information about the confusion matrix. "
   ]
  },
  {
   "cell_type": "markdown",
   "metadata": {},
   "source": [
    "**NOTE 3:**   \n",
    "- Depending on values in the confusion matrix, especially for multi-class classification, Plotly could display target nodes (PREDICTED labels) in a different order than source nodes (ACTUAL labels).  \n",
    "But do not worry, all connected links will have correct width (values)."
   ]
  },
  {
   "cell_type": "markdown",
   "metadata": {},
   "source": [
    "Let's compare it with the heatmap plot."
   ]
  },
  {
   "cell_type": "code",
   "execution_count": 24,
   "metadata": {
    "execution": {
     "iopub.execute_input": "2023-07-21T00:17:42.427779Z",
     "iopub.status.busy": "2023-07-21T00:17:42.427543Z",
     "iopub.status.idle": "2023-07-21T00:17:42.966428Z",
     "shell.execute_reply": "2023-07-21T00:17:42.965655Z",
     "shell.execute_reply.started": "2023-07-21T00:17:42.427757Z"
    },
    "tags": []
   },
   "outputs": [
    {
     "data": {
      "image/png": "[encoded data removed]",
      "text/plain": [
       "<Figure size 864x288 with 4 Axes>"
      ]
     },
     "metadata": {},
     "output_type": "display_data"
    }
   ],
   "source": [
    "# Plot confusion matrix and its normalized version.\n",
    "mu.plot_cm_unnorm_and_norm('Random Forest', t2d_y_test, t2d_pred_rf, t2d_classes, 'Reds')"
   ]
  },
  {
   "cell_type": "markdown",
   "metadata": {},
   "source": [
    "<br>  \n",
    "\n",
    "**NOTE 4 - for Jupyter Lab users:**  \n",
    "\n",
    "-  Set the appropriate renderer in Jupyter Lab to allow Plotly displays figure correctly\n",
    "- As suggested in the [Plotly documentation](https://plotly.com/python/renderers/#interactive-renderers), you might set the default renderer explicitly as iframe by adding following lines into your codes:\n",
    "\n",
    "```python\n",
    "import plotly.io as pio\n",
    "pio.renderers.default = 'iframe'\n",
    "```\n",
    "\n",
    "- This renderer write figures out as standalone HTML files and then display [iframe](https://www.w3schools.com/html/html_iframe.asp) elements that reference these files\n",
    "- They are stored in a subdirectory named *iframe_figures*\n",
    "- The names of the files are given based on the execution number of the notebook cell that produced the figure\n",
    "-  Storing multiple notebooks using an iframe renderer in the same directory, could result in notebooks overwriting each other's figures\n",
    "- To avoid this, add the following lines in each notebook to set different names for the `html_directory`. in this notebook we named it *iframe_figures_n2*\n",
    "\n",
    "\n",
    "```python\n",
    "iframe_renderer = pio.renderers['iframe']\n",
    "iframe_renderer.html_directory='iframe_figures_n2'\n",
    "```\n",
    "\n"
   ]
  }
 ],
 "metadata": {
  "kernelspec": {
   "display_name": "omdena_p310",
   "language": "python",
   "name": "conda-env-omdena_p310-py"
  },
  "language_info": {
   "codemirror_mode": {
    "name": "ipython",
    "version": 3
   },
   "file_extension": ".py",
   "mimetype": "text/x-python",
   "name": "python",
   "nbconvert_exporter": "python",
   "pygments_lexer": "ipython3",
   "version": "3.10.10"
  },
  "toc-autonumbering": true,
  "widgets": {
   "application/vnd.jupyter.widget-state+json": {
    "state": {},
    "version_major": 2,
    "version_minor": 0
   }
  }
 },
 "nbformat": 4,
 "nbformat_minor": 4
}
